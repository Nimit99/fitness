{
  "nbformat": 4,
  "nbformat_minor": 0,
  "metadata": {
    "colab": {
      "provenance": [],
      "authorship_tag": "ABX9TyPMcxm9MDGtdS0nkY9Eb/ix",
      "include_colab_link": true
    },
    "kernelspec": {
      "name": "python3",
      "display_name": "Python 3"
    },
    "language_info": {
      "name": "python"
    }
  },
  "cells": [
    {
      "cell_type": "markdown",
      "metadata": {
        "id": "view-in-github",
        "colab_type": "text"
      },
      "source": [
        "<a href=\"https://colab.research.google.com/github/Nimit99/fitness/blob/main/NLP_HW2.ipynb\" target=\"_parent\"><img src=\"https://colab.research.google.com/assets/colab-badge.svg\" alt=\"Open In Colab\"/></a>"
      ]
    },
    {
      "cell_type": "markdown",
      "source": [
        "Install BeautifulSoup and lxml"
      ],
      "metadata": {
        "id": "yTDe-f12584T"
      }
    },
    {
      "cell_type": "code",
      "execution_count": 1,
      "metadata": {
        "colab": {
          "base_uri": "https://localhost:8080/"
        },
        "id": "VkY2A88y4vUE",
        "outputId": "cc443940-09db-4353-fa7d-f42bbeb2f54f"
      },
      "outputs": [
        {
          "output_type": "stream",
          "name": "stdout",
          "text": [
            "Requirement already satisfied: beautifulsoup4 in /usr/local/lib/python3.10/dist-packages (4.11.2)\n",
            "Requirement already satisfied: lxml in /usr/local/lib/python3.10/dist-packages (4.9.3)\n",
            "Requirement already satisfied: soupsieve>1.2 in /usr/local/lib/python3.10/dist-packages (from beautifulsoup4) (2.5)\n"
          ]
        }
      ],
      "source": [
        "!pip install beautifulsoup4 lxml\n"
      ]
    },
    {
      "cell_type": "markdown",
      "source": [
        "Install BeautifulSoup and lxml"
      ],
      "metadata": {
        "id": "aYuftGZV6CmJ"
      }
    },
    {
      "cell_type": "code",
      "source": [
        "import urllib.request\n",
        "\n",
        "# URL of the website to parse\n",
        "url = \"https://pythonprogramming.net/parsememcparseface/\"\n",
        "\n",
        "# Connect to the website and retrieve the content\n",
        "response = urllib.request.urlopen(url)\n",
        "source = response.read()\n",
        "\n",
        "# Displaying the first 500 characters of the source for review\n",
        "source[:500]\n"
      ],
      "metadata": {
        "colab": {
          "base_uri": "https://localhost:8080/"
        },
        "id": "h3MWzE0t4_en",
        "outputId": "1252d36f-ddfe-4af1-c311-2b9b2e978dff"
      },
      "execution_count": 2,
      "outputs": [
        {
          "output_type": "execute_result",
          "data": {
            "text/plain": [
              "b'<html>\\n\\t<head>\\n\\n\\t\\t<!--\\n\\t\\tpalette:\\n\\t\\tdark blue: #003F72\\n\\t\\tyellow: #FFD166\\n\\t\\tsalmon: #EF476F\\n\\t\\toffwhite: #e7d7d7\\n\\t\\tLight Blue: #118AB2\\n\\t\\tLight green: #7DDF64\\n\\t\\t-->\\n\\n\\t\\t<meta name=\"viewport\" content = \"width=device-width, initial-scale=1.0\">\\n\\t\\t<title>Python Programming Tutorials</title>\\n\\n\\t\\t<meta name=\"description\" content=\"Python Programming tutorials from beginner to advanced on a massive variety of topics. All video and text tutorials are free.\">\\n\\n\\t\\t<link rel=\"shortcut icon\" href=\"/static/favicon.'"
            ]
          },
          "metadata": {},
          "execution_count": 2
        }
      ]
    },
    {
      "cell_type": "code",
      "source": [],
      "metadata": {
        "id": "UPqghVxx5VeS"
      },
      "execution_count": null,
      "outputs": []
    },
    {
      "cell_type": "markdown",
      "source": [
        "Install BeautifulSoup and lxml"
      ],
      "metadata": {
        "id": "0UyrvUgK6Hlq"
      }
    },
    {
      "cell_type": "code",
      "source": [
        "from bs4 import BeautifulSoup\n",
        "\n",
        "soup = BeautifulSoup(source, 'lxml')\n"
      ],
      "metadata": {
        "id": "zCRjLGWs5Vbf"
      },
      "execution_count": 3,
      "outputs": []
    },
    {
      "cell_type": "markdown",
      "source": [
        "Print page title, get attributes, values, and beginning navigation. Get specific values"
      ],
      "metadata": {
        "id": "Y6-_FCOr6KGf"
      }
    },
    {
      "cell_type": "code",
      "source": [
        "# Print the page title\n",
        "print(soup.title.string)\n",
        "\n",
        "# Beginning navigation\n",
        "print(soup.head)\n",
        "print(soup.title)\n",
        "print(soup.body.b)\n"
      ],
      "metadata": {
        "colab": {
          "base_uri": "https://localhost:8080/"
        },
        "id": "f0xU00hq5VY2",
        "outputId": "d397cb92-ba6d-4cf6-ec5b-44f958e6e261"
      },
      "execution_count": 4,
      "outputs": [
        {
          "output_type": "stream",
          "name": "stdout",
          "text": [
            "Python Programming Tutorials\n",
            "<head>\n",
            "<!--\n",
            "\t\tpalette:\n",
            "\t\tdark blue: #003F72\n",
            "\t\tyellow: #FFD166\n",
            "\t\tsalmon: #EF476F\n",
            "\t\toffwhite: #e7d7d7\n",
            "\t\tLight Blue: #118AB2\n",
            "\t\tLight green: #7DDF64\n",
            "\t\t-->\n",
            "<meta content=\"width=device-width, initial-scale=1.0\" name=\"viewport\"/>\n",
            "<title>Python Programming Tutorials</title>\n",
            "<meta content=\"Python Programming tutorials from beginner to advanced on a massive variety of topics. All video and text tutorials are free.\" name=\"description\"/>\n",
            "<link href=\"/static/favicon.ico\" rel=\"shortcut icon\"/>\n",
            "<link href=\"/static/css/materialize.min.css\" rel=\"stylesheet\"/>\n",
            "<link href=\"https://fonts.googleapis.com/icon?family=Material+Icons\" rel=\"stylesheet\"/>\n",
            "<meta content=\"3fLok05gk5gGtWd_VSXbSSSH27F2kr1QqcxYz9vYq2k\" name=\"google-site-verification\"/>\n",
            "<link href=\"/static/css/bootstrap.css\" rel=\"stylesheet\" type=\"text/css\"/>\n",
            "<!-- Compiled and minified CSS -->\n",
            "<!-- Compiled and minified JavaScript -->\n",
            "<script src=\"https://code.jquery.com/jquery-2.1.4.min.js\"></script>\n",
            "<script src=\"https://cdnjs.cloudflare.com/ajax/libs/materialize/0.97.3/js/materialize.min.js\"></script>\n",
            "<style>\n",
            "\t\t@media (min-width:992px) {\n",
            "\t\t#aside {\n",
            "\t\t\twidth:250px;\n",
            "\t\t}\n",
            "\t\tpre { tab-size: 4;}\n",
            "\t\t.btn {background-color:#FFD166;\n",
            "\t\t\t  color:#000;\n",
            "\t\t      height:auto;\n",
            "\t\t\t  font-color:#000;\n",
            "\t\t\t  }\n",
            "\t\t.btn:hover {background-color:#FFD166;\n",
            "\t\t\t\t\t}\n",
            "\n",
            "\n",
            "\t\t</style>\n",
            "<!-- Google Tracking -->\n",
            "<script>\n",
            "\t\t\t  (function(i,s,o,g,r,a,m){i['GoogleAnalyticsObject']=r;i[r]=i[r]||function(){\n",
            "\t\t\t  (i[r].q=i[r].q||[]).push(arguments)},i[r].l=1*new Date();a=s.createElement(o),\n",
            "\t\t\t  m=s.getElementsByTagName(o)[0];a.async=1;a.src=g;m.parentNode.insertBefore(a,m)\n",
            "\t\t\t  })(window,document,'script','//www.google-analytics.com/analytics.js','ga');\n",
            "              ga('config', 'UA-51891827-1', {'anonymize_ip': true});﻿\n",
            "\t\t\t  ga('create', 'UA-51891827-1', 'auto');\n",
            "\t\t\t  ga('send', 'pageview');\n",
            "\n",
            "\t\t</script>\n",
            "<script async=\"\" src=\"//pagead2.googlesyndication.com/pagead/js/adsbygoogle.js\"></script>\n",
            "<script>\n",
            "                         (adsbygoogle = window.adsbygoogle || []).push({\n",
            "                              google_ad_client: \"ca-pub-1579050400541873\",\n",
            "                              enable_page_level_ads: true\n",
            "                         });\n",
            "                    </script>\n",
            "</head>\n",
            "<title>Python Programming Tutorials</title>\n",
            "None\n"
          ]
        }
      ]
    },
    {
      "cell_type": "markdown",
      "source": [
        "Find all the paragraphs instead of just one in the previous query"
      ],
      "metadata": {
        "id": "eJH_w7qH6POB"
      }
    },
    {
      "cell_type": "code",
      "source": [
        "paragraphs = soup.find_all('p')\n",
        "for paragraph in paragraphs:\n",
        "    print(paragraph.text)\n"
      ],
      "metadata": {
        "colab": {
          "base_uri": "https://localhost:8080/"
        },
        "id": "SKnfp2vq5VWA",
        "outputId": "aca73784-e05d-41c0-be89-8ec41a294a98"
      },
      "execution_count": 5,
      "outputs": [
        {
          "output_type": "stream",
          "name": "stdout",
          "text": [
            "Oh, hello! This is a wonderful page meant to let you practice web scraping. This page was originally created to help people work with the Beautiful Soup 4 library.\n",
            "The following table gives some general information for the following programming languages:\n",
            "I think it's clear that, on a scale of 1-10, python is:\n",
            "Javascript (dynamic data) test:\n",
            "y u bad tho?\n",
            "Whᶐt hαppéns now¿\n",
            "sitemap\n",
            "Contact: Harrison@pythonprogramming.net.\n",
            "Programming is a superpower.\n"
          ]
        }
      ]
    },
    {
      "cell_type": "code",
      "source": [],
      "metadata": {
        "id": "ooOHAlVh5arS"
      },
      "execution_count": null,
      "outputs": []
    },
    {
      "cell_type": "markdown",
      "source": [
        "Grab all the links"
      ],
      "metadata": {
        "id": "RskjLsUy6Uvz"
      }
    },
    {
      "cell_type": "code",
      "source": [
        "for url in soup.find_all('a'):\n",
        "    print(url.get('href'))\n"
      ],
      "metadata": {
        "colab": {
          "base_uri": "https://localhost:8080/"
        },
        "id": "dYa2q1LT5dfA",
        "outputId": "90d60cae-45d1-4d9f-99a6-dba459d5c268"
      },
      "execution_count": 6,
      "outputs": [
        {
          "output_type": "stream",
          "name": "stdout",
          "text": [
            "/\n",
            "#\n",
            "/\n",
            "/+=1/\n",
            "/support/\n",
            "https://goo.gl/7zgAVQ\n",
            "/login/\n",
            "/register/\n",
            "/\n",
            "/+=1/\n",
            "/support/\n",
            "https://goo.gl/7zgAVQ\n",
            "/login/\n",
            "/register/\n",
            "https://www.crummy.com/software/BeautifulSoup/bs4/doc/\n",
            "/sitemap.xml\n",
            "/support-donate/\n",
            "/consulting/\n",
            "https://www.facebook.com/pythonprogramming.net/\n",
            "https://twitter.com/sentdex\n",
            "https://instagram.com/sentdex\n",
            "/about/tos/\n",
            "/about/privacy-policy/\n",
            "https://xkcd.com/353/\n"
          ]
        }
      ]
    },
    {
      "cell_type": "markdown",
      "source": [
        "Just grab the text using ‘get_text’"
      ],
      "metadata": {
        "id": "NikHA5A-6Ya4"
      }
    },
    {
      "cell_type": "code",
      "source": [
        "for url in soup.find_all('a'):\n",
        "    print(url.get_text())\n"
      ],
      "metadata": {
        "colab": {
          "base_uri": "https://localhost:8080/"
        },
        "id": "pyZbaZZq5da-",
        "outputId": "619e580a-4b16-47e6-99aa-e2289b805452"
      },
      "execution_count": 7,
      "outputs": [
        {
          "output_type": "stream",
          "name": "stdout",
          "text": [
            "\n",
            "\n",
            "Home\n",
            "+=1\n",
            "Support the Content\n",
            "Community\n",
            "Log in\n",
            "Sign up\n",
            "Home\n",
            "+=1\n",
            "Support the Content\n",
            "Community\n",
            "Log in\n",
            "Sign up\n",
            "Beautiful Soup 4\n",
            "sitemap\n",
            "Support this Website!\n",
            "Consulting and Contracting\n",
            "Facebook\n",
            "Twitter\n",
            "Instagram\n",
            "Terms and Conditions\n",
            "Privacy Policy\n",
            "Programming is a superpower.\n"
          ]
        }
      ]
    },
    {
      "cell_type": "code",
      "source": [],
      "metadata": {
        "id": "hpuXRChx5hKN"
      },
      "execution_count": null,
      "outputs": []
    }
  ]
}